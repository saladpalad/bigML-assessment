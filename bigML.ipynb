{
  "nbformat": 4,
  "nbformat_minor": 0,
  "metadata": {
    "colab": {
      "provenance": [],
      "gpuType": "T4",
      "authorship_tag": "ABX9TyPfaLr8xY7oWF1i7azeSjuU",
      "include_colab_link": true
    },
    "kernelspec": {
      "name": "python3",
      "display_name": "Python 3"
    },
    "language_info": {
      "name": "python"
    },
    "accelerator": "GPU"
  },
  "cells": [
    {
      "cell_type": "markdown",
      "metadata": {
        "id": "view-in-github",
        "colab_type": "text"
      },
      "source": [
        "<a href=\"https://colab.research.google.com/github/saladpalad/bigML-assessment/blob/main/bigML.ipynb\" target=\"_parent\"><img src=\"https://colab.research.google.com/assets/colab-badge.svg\" alt=\"Open In Colab\"/></a>"
      ]
    },
    {
      "cell_type": "markdown",
      "source": [
        "### Setup"
      ],
      "metadata": {
        "id": "zDVMof1tkksf"
      }
    },
    {
      "cell_type": "code",
      "source": [
        "!pip install spuco"
      ],
      "metadata": {
        "colab": {
          "base_uri": "https://localhost:8080/"
        },
        "id": "VfeM-YC2d4Yq",
        "outputId": "ca48f910-5768-4ad7-dcd8-b0d7683f66e3"
      },
      "execution_count": null,
      "outputs": [
        {
          "output_type": "stream",
          "name": "stdout",
          "text": [
            "Requirement already satisfied: spuco in /usr/local/lib/python3.10/dist-packages (1.0.3)\n",
            "Requirement already satisfied: matplotlib>=3.7.1 in /usr/local/lib/python3.10/dist-packages (from spuco) (3.7.1)\n",
            "Requirement already satisfied: numpy>=1.23.5 in /usr/local/lib/python3.10/dist-packages (from spuco) (1.25.2)\n",
            "Requirement already satisfied: setuptools>=61.0 in /usr/local/lib/python3.10/dist-packages (from spuco) (67.7.2)\n",
            "Requirement already satisfied: torch>=2.0.0 in /usr/local/lib/python3.10/dist-packages (from spuco) (2.2.1+cu121)\n",
            "Requirement already satisfied: torchvision>=0.15.1 in /usr/local/lib/python3.10/dist-packages (from spuco) (0.17.1+cu121)\n",
            "Requirement already satisfied: tqdm>=4.65.0 in /usr/local/lib/python3.10/dist-packages (from spuco) (4.66.2)\n",
            "Requirement already satisfied: scikit-learn>=0.20.0 in /usr/local/lib/python3.10/dist-packages (from spuco) (1.2.2)\n",
            "Requirement already satisfied: wilds>=2.0.0 in /usr/local/lib/python3.10/dist-packages (from spuco) (2.0.0)\n",
            "Requirement already satisfied: transformers>=3.5.0 in /usr/local/lib/python3.10/dist-packages (from spuco) (4.38.2)\n",
            "Requirement already satisfied: contourpy>=1.0.1 in /usr/local/lib/python3.10/dist-packages (from matplotlib>=3.7.1->spuco) (1.2.0)\n",
            "Requirement already satisfied: cycler>=0.10 in /usr/local/lib/python3.10/dist-packages (from matplotlib>=3.7.1->spuco) (0.12.1)\n",
            "Requirement already satisfied: fonttools>=4.22.0 in /usr/local/lib/python3.10/dist-packages (from matplotlib>=3.7.1->spuco) (4.50.0)\n",
            "Requirement already satisfied: kiwisolver>=1.0.1 in /usr/local/lib/python3.10/dist-packages (from matplotlib>=3.7.1->spuco) (1.4.5)\n",
            "Requirement already satisfied: packaging>=20.0 in /usr/local/lib/python3.10/dist-packages (from matplotlib>=3.7.1->spuco) (24.0)\n",
            "Requirement already satisfied: pillow>=6.2.0 in /usr/local/lib/python3.10/dist-packages (from matplotlib>=3.7.1->spuco) (9.4.0)\n",
            "Requirement already satisfied: pyparsing>=2.3.1 in /usr/local/lib/python3.10/dist-packages (from matplotlib>=3.7.1->spuco) (3.1.2)\n",
            "Requirement already satisfied: python-dateutil>=2.7 in /usr/local/lib/python3.10/dist-packages (from matplotlib>=3.7.1->spuco) (2.8.2)\n",
            "Requirement already satisfied: scipy>=1.3.2 in /usr/local/lib/python3.10/dist-packages (from scikit-learn>=0.20.0->spuco) (1.11.4)\n",
            "Requirement already satisfied: joblib>=1.1.1 in /usr/local/lib/python3.10/dist-packages (from scikit-learn>=0.20.0->spuco) (1.3.2)\n",
            "Requirement already satisfied: threadpoolctl>=2.0.0 in /usr/local/lib/python3.10/dist-packages (from scikit-learn>=0.20.0->spuco) (3.4.0)\n",
            "Requirement already satisfied: filelock in /usr/local/lib/python3.10/dist-packages (from torch>=2.0.0->spuco) (3.13.3)\n",
            "Requirement already satisfied: typing-extensions>=4.8.0 in /usr/local/lib/python3.10/dist-packages (from torch>=2.0.0->spuco) (4.10.0)\n",
            "Requirement already satisfied: sympy in /usr/local/lib/python3.10/dist-packages (from torch>=2.0.0->spuco) (1.12)\n",
            "Requirement already satisfied: networkx in /usr/local/lib/python3.10/dist-packages (from torch>=2.0.0->spuco) (3.2.1)\n",
            "Requirement already satisfied: jinja2 in /usr/local/lib/python3.10/dist-packages (from torch>=2.0.0->spuco) (3.1.3)\n",
            "Requirement already satisfied: fsspec in /usr/local/lib/python3.10/dist-packages (from torch>=2.0.0->spuco) (2023.6.0)\n",
            "Requirement already satisfied: nvidia-cuda-nvrtc-cu12==12.1.105 in /usr/local/lib/python3.10/dist-packages (from torch>=2.0.0->spuco) (12.1.105)\n",
            "Requirement already satisfied: nvidia-cuda-runtime-cu12==12.1.105 in /usr/local/lib/python3.10/dist-packages (from torch>=2.0.0->spuco) (12.1.105)\n",
            "Requirement already satisfied: nvidia-cuda-cupti-cu12==12.1.105 in /usr/local/lib/python3.10/dist-packages (from torch>=2.0.0->spuco) (12.1.105)\n",
            "Requirement already satisfied: nvidia-cudnn-cu12==8.9.2.26 in /usr/local/lib/python3.10/dist-packages (from torch>=2.0.0->spuco) (8.9.2.26)\n",
            "Requirement already satisfied: nvidia-cublas-cu12==12.1.3.1 in /usr/local/lib/python3.10/dist-packages (from torch>=2.0.0->spuco) (12.1.3.1)\n",
            "Requirement already satisfied: nvidia-cufft-cu12==11.0.2.54 in /usr/local/lib/python3.10/dist-packages (from torch>=2.0.0->spuco) (11.0.2.54)\n",
            "Requirement already satisfied: nvidia-curand-cu12==10.3.2.106 in /usr/local/lib/python3.10/dist-packages (from torch>=2.0.0->spuco) (10.3.2.106)\n",
            "Requirement already satisfied: nvidia-cusolver-cu12==11.4.5.107 in /usr/local/lib/python3.10/dist-packages (from torch>=2.0.0->spuco) (11.4.5.107)\n",
            "Requirement already satisfied: nvidia-cusparse-cu12==12.1.0.106 in /usr/local/lib/python3.10/dist-packages (from torch>=2.0.0->spuco) (12.1.0.106)\n",
            "Requirement already satisfied: nvidia-nccl-cu12==2.19.3 in /usr/local/lib/python3.10/dist-packages (from torch>=2.0.0->spuco) (2.19.3)\n",
            "Requirement already satisfied: nvidia-nvtx-cu12==12.1.105 in /usr/local/lib/python3.10/dist-packages (from torch>=2.0.0->spuco) (12.1.105)\n",
            "Requirement already satisfied: triton==2.2.0 in /usr/local/lib/python3.10/dist-packages (from torch>=2.0.0->spuco) (2.2.0)\n",
            "Requirement already satisfied: nvidia-nvjitlink-cu12 in /usr/local/lib/python3.10/dist-packages (from nvidia-cusolver-cu12==11.4.5.107->torch>=2.0.0->spuco) (12.4.127)\n",
            "Requirement already satisfied: huggingface-hub<1.0,>=0.19.3 in /usr/local/lib/python3.10/dist-packages (from transformers>=3.5.0->spuco) (0.20.3)\n",
            "Requirement already satisfied: pyyaml>=5.1 in /usr/local/lib/python3.10/dist-packages (from transformers>=3.5.0->spuco) (6.0.1)\n",
            "Requirement already satisfied: regex!=2019.12.17 in /usr/local/lib/python3.10/dist-packages (from transformers>=3.5.0->spuco) (2023.12.25)\n",
            "Requirement already satisfied: requests in /usr/local/lib/python3.10/dist-packages (from transformers>=3.5.0->spuco) (2.31.0)\n",
            "Requirement already satisfied: tokenizers<0.19,>=0.14 in /usr/local/lib/python3.10/dist-packages (from transformers>=3.5.0->spuco) (0.15.2)\n",
            "Requirement already satisfied: safetensors>=0.4.1 in /usr/local/lib/python3.10/dist-packages (from transformers>=3.5.0->spuco) (0.4.2)\n",
            "Requirement already satisfied: ogb>=1.2.6 in /usr/local/lib/python3.10/dist-packages (from wilds>=2.0.0->spuco) (1.3.6)\n",
            "Requirement already satisfied: outdated>=0.2.0 in /usr/local/lib/python3.10/dist-packages (from wilds>=2.0.0->spuco) (0.2.2)\n",
            "Requirement already satisfied: pandas>=1.1.0 in /usr/local/lib/python3.10/dist-packages (from wilds>=2.0.0->spuco) (2.0.3)\n",
            "Requirement already satisfied: pytz>=2020.4 in /usr/local/lib/python3.10/dist-packages (from wilds>=2.0.0->spuco) (2023.4)\n",
            "Requirement already satisfied: six>=1.12.0 in /usr/local/lib/python3.10/dist-packages (from ogb>=1.2.6->wilds>=2.0.0->spuco) (1.16.0)\n",
            "Requirement already satisfied: urllib3>=1.24.0 in /usr/local/lib/python3.10/dist-packages (from ogb>=1.2.6->wilds>=2.0.0->spuco) (2.0.7)\n",
            "Requirement already satisfied: littleutils in /usr/local/lib/python3.10/dist-packages (from outdated>=0.2.0->wilds>=2.0.0->spuco) (0.2.2)\n",
            "Requirement already satisfied: tzdata>=2022.1 in /usr/local/lib/python3.10/dist-packages (from pandas>=1.1.0->wilds>=2.0.0->spuco) (2024.1)\n",
            "Requirement already satisfied: MarkupSafe>=2.0 in /usr/local/lib/python3.10/dist-packages (from jinja2->torch>=2.0.0->spuco) (2.1.5)\n",
            "Requirement already satisfied: charset-normalizer<4,>=2 in /usr/local/lib/python3.10/dist-packages (from requests->transformers>=3.5.0->spuco) (3.3.2)\n",
            "Requirement already satisfied: idna<4,>=2.5 in /usr/local/lib/python3.10/dist-packages (from requests->transformers>=3.5.0->spuco) (3.6)\n",
            "Requirement already satisfied: certifi>=2017.4.17 in /usr/local/lib/python3.10/dist-packages (from requests->transformers>=3.5.0->spuco) (2024.2.2)\n",
            "Requirement already satisfied: mpmath>=0.19 in /usr/local/lib/python3.10/dist-packages (from sympy->torch>=2.0.0->spuco) (1.3.0)\n"
          ]
        }
      ]
    },
    {
      "cell_type": "code",
      "execution_count": null,
      "metadata": {
        "id": "H6Bu_Zf4c6FS"
      },
      "outputs": [],
      "source": [
        "import numpy as np\n",
        "import torch\n",
        "import torch.nn as nn\n",
        "import torchvision\n",
        "from torchvision import transforms\n",
        "import tqdm as tqdm\n",
        "import spuco.datasets"
      ]
    },
    {
      "cell_type": "markdown",
      "source": [
        "### Initialize dataset"
      ],
      "metadata": {
        "id": "nvI1suSIkd25"
      }
    },
    {
      "cell_type": "code",
      "source": [
        "from spuco.datasets import SpuCoMNIST, SpuriousFeatureDifficulty\n",
        "import torchvision.transforms as T\n",
        "\n",
        "classes = [[0, 1], [2, 3], [4, 5], [6, 7], [8, 9]]\n",
        "difficulty = SpuriousFeatureDifficulty.MAGNITUDE_LARGE\n",
        "\n",
        "trainset = SpuCoMNIST(\n",
        "    root=\"/data/mnist/\",\n",
        "    spurious_feature_difficulty=difficulty,\n",
        "    spurious_correlation_strength=0.995,\n",
        "    classes=classes,\n",
        "    split=\"train\"\n",
        ")\n",
        "trainset.initialize()\n",
        "\n",
        "testset = SpuCoMNIST(\n",
        "    root=\"/data/mnist/\",\n",
        "    spurious_feature_difficulty=difficulty,\n",
        "    classes=classes,\n",
        "    split=\"test\"\n",
        ")\n",
        "testset.initialize()"
      ],
      "metadata": {
        "colab": {
          "base_uri": "https://localhost:8080/"
        },
        "id": "8rJK5zg8hFuT",
        "outputId": "ba22dbc7-a774-4466-dfe8-40cd5bda0db7"
      },
      "execution_count": null,
      "outputs": [
        {
          "output_type": "stream",
          "name": "stderr",
          "text": [
            "100%|██████████| 48004/48004 [00:10<00:00, 4495.11it/s]\n",
            "100%|██████████| 10000/10000 [00:01<00:00, 6779.01it/s]\n"
          ]
        }
      ]
    },
    {
      "cell_type": "markdown",
      "source": [
        "### Train ERM Model (ResNet-18)"
      ],
      "metadata": {
        "id": "YasDRnfUksCK"
      }
    },
    {
      "cell_type": "code",
      "source": [
        "from spuco.models import model_factory\n",
        "from spuco.utils import Trainer\n",
        "from torch.optim import SGD\n",
        "\n",
        "device = torch.device('cuda' if torch.cuda.is_available() else 'cpu')\n",
        "print(device)\n",
        "model = model_factory(\"resnet18\", trainset[0][0].shape, trainset.num_classes).to(device)\n",
        "erm = Trainer(\n",
        "    trainset=trainset,\n",
        "    model=model,\n",
        "    batch_size=64,\n",
        "    optimizer=SGD(model.parameters(), lr=1e-3, weight_decay=5e-4, momentum=0.9, nesterov=True),\n",
        "    device=device,\n",
        "    verbose=True\n",
        ")\n",
        "\n",
        "erm.train(1)"
      ],
      "metadata": {
        "colab": {
          "base_uri": "https://localhost:8080/"
        },
        "id": "TgPRe1SXeVOt",
        "outputId": "679b9ace-b852-441e-d3b6-6e1b477594f2"
      },
      "execution_count": null,
      "outputs": [
        {
          "output_type": "stream",
          "name": "stdout",
          "text": [
            "cuda\n"
          ]
        },
        {
          "output_type": "stream",
          "name": "stderr",
          "text": [
            "Epoch 0: 100%|██████████| 751/751 [00:23<00:00, 32.22batch/s, accuracy=75.0%, loss=0.371]\n"
          ]
        }
      ]
    },
    {
      "cell_type": "code",
      "source": [
        "from spuco.evaluate import Evaluator\n",
        "\n",
        "evaluator = Evaluator(\n",
        "    testset=testset,\n",
        "    group_partition=testset.group_partition,\n",
        "    group_weights=trainset.group_weights,\n",
        "    batch_size=64,\n",
        "    model=model,\n",
        "    device=device,\n",
        "    verbose=True\n",
        ")\n",
        "evaluator.evaluate()"
      ],
      "metadata": {
        "colab": {
          "base_uri": "https://localhost:8080/"
        },
        "id": "2G28ZsVVhnTW",
        "outputId": "e05a7c5c-b2a8-40c0-c13c-4464cc354e28"
      },
      "execution_count": null,
      "outputs": [
        {
          "output_type": "stream",
          "name": "stderr",
          "text": [
            "Evaluating group-wise accuracy:   4%|▍         | 1/25 [00:00<00:13,  1.75it/s]"
          ]
        },
        {
          "output_type": "stream",
          "name": "stdout",
          "text": [
            "Group (0, 0) Accuracy: 100.0\n"
          ]
        },
        {
          "output_type": "stream",
          "name": "stderr",
          "text": [
            "\rEvaluating group-wise accuracy:   8%|▊         | 2/25 [00:01<00:11,  1.96it/s]"
          ]
        },
        {
          "output_type": "stream",
          "name": "stdout",
          "text": [
            "Group (0, 1) Accuracy: 31.914893617021278\n"
          ]
        },
        {
          "output_type": "stream",
          "name": "stderr",
          "text": [
            "\rEvaluating group-wise accuracy:  12%|█▏        | 3/25 [00:01<00:10,  2.08it/s]"
          ]
        },
        {
          "output_type": "stream",
          "name": "stdout",
          "text": [
            "Group (0, 2) Accuracy: 37.35224586288416\n"
          ]
        },
        {
          "output_type": "stream",
          "name": "stderr",
          "text": [
            "\rEvaluating group-wise accuracy:  16%|█▌        | 4/25 [00:01<00:09,  2.10it/s]"
          ]
        },
        {
          "output_type": "stream",
          "name": "stdout",
          "text": [
            "Group (0, 3) Accuracy: 30.73286052009456\n"
          ]
        },
        {
          "output_type": "stream",
          "name": "stderr",
          "text": [
            "\rEvaluating group-wise accuracy:  20%|██        | 5/25 [00:02<00:09,  2.14it/s]"
          ]
        },
        {
          "output_type": "stream",
          "name": "stdout",
          "text": [
            "Group (0, 4) Accuracy: 27.659574468085108\n"
          ]
        },
        {
          "output_type": "stream",
          "name": "stderr",
          "text": [
            "\rEvaluating group-wise accuracy:  24%|██▍       | 6/25 [00:02<00:08,  2.12it/s]"
          ]
        },
        {
          "output_type": "stream",
          "name": "stdout",
          "text": [
            "Group (1, 0) Accuracy: 20.78239608801956\n"
          ]
        },
        {
          "output_type": "stream",
          "name": "stderr",
          "text": [
            "\rEvaluating group-wise accuracy:  28%|██▊       | 7/25 [00:03<00:08,  2.15it/s]"
          ]
        },
        {
          "output_type": "stream",
          "name": "stdout",
          "text": [
            "Group (1, 1) Accuracy: 100.0\n"
          ]
        },
        {
          "output_type": "stream",
          "name": "stderr",
          "text": [
            "\rEvaluating group-wise accuracy:  32%|███▏      | 8/25 [00:03<00:07,  2.15it/s]"
          ]
        },
        {
          "output_type": "stream",
          "name": "stdout",
          "text": [
            "Group (1, 2) Accuracy: 0.0\n"
          ]
        },
        {
          "output_type": "stream",
          "name": "stderr",
          "text": [
            "\rEvaluating group-wise accuracy:  36%|███▌      | 9/25 [00:04<00:07,  2.12it/s]"
          ]
        },
        {
          "output_type": "stream",
          "name": "stdout",
          "text": [
            "Group (1, 3) Accuracy: 0.0\n"
          ]
        },
        {
          "output_type": "stream",
          "name": "stderr",
          "text": [
            "\rEvaluating group-wise accuracy:  40%|████      | 10/25 [00:04<00:07,  2.10it/s]"
          ]
        },
        {
          "output_type": "stream",
          "name": "stdout",
          "text": [
            "Group (1, 4) Accuracy: 0.9803921568627451\n"
          ]
        },
        {
          "output_type": "stream",
          "name": "stderr",
          "text": [
            "\rEvaluating group-wise accuracy:  44%|████▍     | 11/25 [00:05<00:06,  2.12it/s]"
          ]
        },
        {
          "output_type": "stream",
          "name": "stdout",
          "text": [
            "Group (2, 0) Accuracy: 24.266666666666666\n"
          ]
        },
        {
          "output_type": "stream",
          "name": "stderr",
          "text": [
            "\rEvaluating group-wise accuracy:  48%|████▊     | 12/25 [00:05<00:06,  2.14it/s]"
          ]
        },
        {
          "output_type": "stream",
          "name": "stdout",
          "text": [
            "Group (2, 1) Accuracy: 0.0\n"
          ]
        },
        {
          "output_type": "stream",
          "name": "stderr",
          "text": [
            "\rEvaluating group-wise accuracy:  52%|█████▏    | 13/25 [00:06<00:05,  2.13it/s]"
          ]
        },
        {
          "output_type": "stream",
          "name": "stdout",
          "text": [
            "Group (2, 2) Accuracy: 100.0\n"
          ]
        },
        {
          "output_type": "stream",
          "name": "stderr",
          "text": [
            "\rEvaluating group-wise accuracy:  56%|█████▌    | 14/25 [00:06<00:05,  2.13it/s]"
          ]
        },
        {
          "output_type": "stream",
          "name": "stdout",
          "text": [
            "Group (2, 3) Accuracy: 0.26666666666666666\n"
          ]
        },
        {
          "output_type": "stream",
          "name": "stderr",
          "text": [
            "\rEvaluating group-wise accuracy:  60%|██████    | 15/25 [00:07<00:04,  2.14it/s]"
          ]
        },
        {
          "output_type": "stream",
          "name": "stdout",
          "text": [
            "Group (2, 4) Accuracy: 0.0\n"
          ]
        },
        {
          "output_type": "stream",
          "name": "stderr",
          "text": [
            "\rEvaluating group-wise accuracy:  64%|██████▍   | 16/25 [00:07<00:04,  1.94it/s]"
          ]
        },
        {
          "output_type": "stream",
          "name": "stdout",
          "text": [
            "Group (3, 0) Accuracy: 8.793969849246231\n"
          ]
        },
        {
          "output_type": "stream",
          "name": "stderr",
          "text": [
            "\rEvaluating group-wise accuracy:  68%|██████▊   | 17/25 [00:08<00:04,  1.73it/s]"
          ]
        },
        {
          "output_type": "stream",
          "name": "stdout",
          "text": [
            "Group (3, 1) Accuracy: 1.0075566750629723\n"
          ]
        },
        {
          "output_type": "stream",
          "name": "stderr",
          "text": [
            "\rEvaluating group-wise accuracy:  72%|███████▏  | 18/25 [00:09<00:04,  1.61it/s]"
          ]
        },
        {
          "output_type": "stream",
          "name": "stdout",
          "text": [
            "Group (3, 2) Accuracy: 9.06801007556675\n"
          ]
        },
        {
          "output_type": "stream",
          "name": "stderr",
          "text": [
            "\rEvaluating group-wise accuracy:  76%|███████▌  | 19/25 [00:09<00:03,  1.70it/s]"
          ]
        },
        {
          "output_type": "stream",
          "name": "stdout",
          "text": [
            "Group (3, 3) Accuracy: 100.0\n"
          ]
        },
        {
          "output_type": "stream",
          "name": "stderr",
          "text": [
            "\rEvaluating group-wise accuracy:  80%|████████  | 20/25 [00:10<00:02,  1.81it/s]"
          ]
        },
        {
          "output_type": "stream",
          "name": "stdout",
          "text": [
            "Group (3, 4) Accuracy: 11.335012594458439\n"
          ]
        },
        {
          "output_type": "stream",
          "name": "stderr",
          "text": [
            "\rEvaluating group-wise accuracy:  84%|████████▍ | 21/25 [00:10<00:02,  1.90it/s]"
          ]
        },
        {
          "output_type": "stream",
          "name": "stdout",
          "text": [
            "Group (4, 0) Accuracy: 58.69017632241814\n"
          ]
        },
        {
          "output_type": "stream",
          "name": "stderr",
          "text": [
            "\rEvaluating group-wise accuracy:  88%|████████▊ | 22/25 [00:11<00:01,  1.98it/s]"
          ]
        },
        {
          "output_type": "stream",
          "name": "stdout",
          "text": [
            "Group (4, 1) Accuracy: 0.2518891687657431\n"
          ]
        },
        {
          "output_type": "stream",
          "name": "stderr",
          "text": [
            "\rEvaluating group-wise accuracy:  92%|█████████▏| 23/25 [00:11<00:00,  2.03it/s]"
          ]
        },
        {
          "output_type": "stream",
          "name": "stdout",
          "text": [
            "Group (4, 2) Accuracy: 0.0\n"
          ]
        },
        {
          "output_type": "stream",
          "name": "stderr",
          "text": [
            "\rEvaluating group-wise accuracy:  96%|█████████▌| 24/25 [00:11<00:00,  2.08it/s]"
          ]
        },
        {
          "output_type": "stream",
          "name": "stdout",
          "text": [
            "Group (4, 3) Accuracy: 6.0606060606060606\n"
          ]
        },
        {
          "output_type": "stream",
          "name": "stderr",
          "text": [
            "Evaluating group-wise accuracy: 100%|██████████| 25/25 [00:12<00:00,  2.01it/s]"
          ]
        },
        {
          "output_type": "stream",
          "name": "stdout",
          "text": [
            "Group (4, 4) Accuracy: 100.0\n"
          ]
        },
        {
          "output_type": "stream",
          "name": "stderr",
          "text": [
            "\n"
          ]
        },
        {
          "output_type": "execute_result",
          "data": {
            "text/plain": [
              "{(0, 0): 100.0,\n",
              " (0, 1): 31.914893617021278,\n",
              " (0, 2): 37.35224586288416,\n",
              " (0, 3): 30.73286052009456,\n",
              " (0, 4): 27.659574468085108,\n",
              " (1, 0): 20.78239608801956,\n",
              " (1, 1): 100.0,\n",
              " (1, 2): 0.0,\n",
              " (1, 3): 0.0,\n",
              " (1, 4): 0.9803921568627451,\n",
              " (2, 0): 24.266666666666666,\n",
              " (2, 1): 0.0,\n",
              " (2, 2): 100.0,\n",
              " (2, 3): 0.26666666666666666,\n",
              " (2, 4): 0.0,\n",
              " (3, 0): 8.793969849246231,\n",
              " (3, 1): 1.0075566750629723,\n",
              " (3, 2): 9.06801007556675,\n",
              " (3, 3): 100.0,\n",
              " (3, 4): 11.335012594458439,\n",
              " (4, 0): 58.69017632241814,\n",
              " (4, 1): 0.2518891687657431,\n",
              " (4, 2): 0.0,\n",
              " (4, 3): 6.0606060606060606,\n",
              " (4, 4): 100.0}"
            ]
          },
          "metadata": {},
          "execution_count": 14
        }
      ]
    },
    {
      "cell_type": "markdown",
      "source": [
        "### Cluster in the feature space of the ERM trained model"
      ],
      "metadata": {
        "id": "iaRRdYkzkZCT"
      }
    },
    {
      "cell_type": "code",
      "source": [
        "from spuco.group_inference import Cluster, ClusterAlg\n",
        "\n",
        "logits = erm.get_trainset_outputs()\n",
        "cluster = Cluster(\n",
        "    Z=logits,\n",
        "    class_labels=trainset.labels,\n",
        "    cluster_alg=ClusterAlg.KMEANS,\n",
        "    num_clusters=2,\n",
        "    device=device,\n",
        "    verbose=True\n",
        ")\n",
        "group_partition = cluster.infer_groups()"
      ],
      "metadata": {
        "colab": {
          "base_uri": "https://localhost:8080/"
        },
        "id": "qlFYiZsCd5xx",
        "outputId": "0e5f04e7-7209-475d-b07c-e018aca60b15"
      },
      "execution_count": null,
      "outputs": [
        {
          "output_type": "stream",
          "name": "stderr",
          "text": [
            "Getting Trainset Outputs: 100%|██████████| 751/751 [00:05<00:00, 133.08batch/s]\n",
            "Clustering class-wise: 100%|██████████| 5/5 [00:00<00:00, 10.49it/s]\n"
          ]
        }
      ]
    },
    {
      "cell_type": "markdown",
      "source": [
        "### Retrain using \"Group-Balancing\""
      ],
      "metadata": {
        "id": "eYXJ3N0BlMNg"
      }
    },
    {
      "cell_type": "code",
      "source": [
        "from torch.optim import SGD\n",
        "from spuco.robust_train import GroupBalanceBatchERM, ClassBalanceBatchERM\n",
        "from spuco.models import model_factory\n",
        "\n",
        "model = model_factory(\"resnet18\", trainset[0][0].shape, trainset.num_classes).to(device)\n",
        "group_balance_erm = GroupBalanceBatchERM(\n",
        "    model=model,\n",
        "    num_epochs=5,\n",
        "    trainset=trainset,\n",
        "    group_partition=group_partition,\n",
        "    batch_size=64,\n",
        "    optimizer=SGD(model.parameters(), lr=1e-3, weight_decay=5e-4, momentum=0.9, nesterov=True),\n",
        "    device=device,\n",
        "    verbose=True\n",
        ")\n",
        "group_balance_erm.train()"
      ],
      "metadata": {
        "colab": {
          "base_uri": "https://localhost:8080/"
        },
        "id": "IptJRB-2lViE",
        "outputId": "781a90e9-c9c0-4aba-b0b1-ff6e72fa413b"
      },
      "execution_count": null,
      "outputs": [
        {
          "output_type": "stream",
          "name": "stderr",
          "text": [
            "/usr/local/lib/python3.10/dist-packages/torch/utils/data/dataloader.py:558: UserWarning: This DataLoader will create 4 worker processes in total. Our suggested max number of worker in current system is 2, which is smaller than what this DataLoader is going to create. Please be aware that excessive worker creation might get DataLoader running slow or even freeze, lower the worker number to avoid potential slowness/freeze if necessary.\n",
            "  warnings.warn(_create_warning_msg(\n",
            "Epoch 0: 100%|██████████| 751/751 [00:23<00:00, 32.63batch/s, accuracy=75.0%, loss=1.05]\n",
            "Epoch 1: 100%|██████████| 751/751 [00:23<00:00, 32.01batch/s, accuracy=100.0%, loss=0.168]\n",
            "Epoch 2: 100%|██████████| 751/751 [00:23<00:00, 32.61batch/s, accuracy=100.0%, loss=0.155]\n",
            "Epoch 3: 100%|██████████| 751/751 [00:23<00:00, 32.55batch/s, accuracy=100.0%, loss=0.0594]\n",
            "Epoch 4: 100%|██████████| 751/751 [00:24<00:00, 30.72batch/s, accuracy=100.0%, loss=0.126]\n"
          ]
        }
      ]
    },
    {
      "cell_type": "code",
      "source": [
        "from spuco.evaluate import Evaluator\n",
        "\n",
        "evaluator = Evaluator(\n",
        "    testset=testset,\n",
        "    group_partition=testset.group_partition,\n",
        "    group_weights=trainset.group_weights,\n",
        "    batch_size=64,\n",
        "    model=model,\n",
        "    device=device,\n",
        "    verbose=True\n",
        ")\n",
        "evaluator.evaluate()\n",
        "\n",
        "print(\"Worst group accuracy:\", evaluator.worst_group_accuracy)\n",
        "print(\"Avg group accuracy:\", evaluator.average_accuracy)\n",
        "print(\"Spurious attribute accuracy\", evaluator.evaluate_spurious_attribute_prediction())"
      ],
      "metadata": {
        "colab": {
          "base_uri": "https://localhost:8080/"
        },
        "id": "zYuPZnIcle03",
        "outputId": "1afabfb7-32fa-47c1-b484-7b5c836aa4a1"
      },
      "execution_count": null,
      "outputs": [
        {
          "output_type": "stream",
          "name": "stderr",
          "text": [
            "Evaluating group-wise accuracy:   4%|▍         | 1/25 [00:00<00:10,  2.21it/s]"
          ]
        },
        {
          "output_type": "stream",
          "name": "stdout",
          "text": [
            "Group (0, 0) Accuracy: 100.0\n"
          ]
        },
        {
          "output_type": "stream",
          "name": "stderr",
          "text": [
            "\rEvaluating group-wise accuracy:   8%|▊         | 2/25 [00:00<00:10,  2.20it/s]"
          ]
        },
        {
          "output_type": "stream",
          "name": "stdout",
          "text": [
            "Group (0, 1) Accuracy: 55.319148936170215\n"
          ]
        },
        {
          "output_type": "stream",
          "name": "stderr",
          "text": [
            "\rEvaluating group-wise accuracy:  12%|█▏        | 3/25 [00:01<00:09,  2.22it/s]"
          ]
        },
        {
          "output_type": "stream",
          "name": "stdout",
          "text": [
            "Group (0, 2) Accuracy: 65.2482269503546\n"
          ]
        },
        {
          "output_type": "stream",
          "name": "stderr",
          "text": [
            "\rEvaluating group-wise accuracy:  16%|█▌        | 4/25 [00:01<00:09,  2.22it/s]"
          ]
        },
        {
          "output_type": "stream",
          "name": "stdout",
          "text": [
            "Group (0, 3) Accuracy: 64.53900709219859\n"
          ]
        },
        {
          "output_type": "stream",
          "name": "stderr",
          "text": [
            "\rEvaluating group-wise accuracy:  20%|██        | 5/25 [00:02<00:09,  2.20it/s]"
          ]
        },
        {
          "output_type": "stream",
          "name": "stdout",
          "text": [
            "Group (0, 4) Accuracy: 65.72104018912529\n"
          ]
        },
        {
          "output_type": "stream",
          "name": "stderr",
          "text": [
            "\rEvaluating group-wise accuracy:  24%|██▍       | 6/25 [00:02<00:08,  2.17it/s]"
          ]
        },
        {
          "output_type": "stream",
          "name": "stdout",
          "text": [
            "Group (1, 0) Accuracy: 36.919315403422985\n"
          ]
        },
        {
          "output_type": "stream",
          "name": "stderr",
          "text": [
            "\rEvaluating group-wise accuracy:  28%|██▊       | 7/25 [00:03<00:08,  2.13it/s]"
          ]
        },
        {
          "output_type": "stream",
          "name": "stdout",
          "text": [
            "Group (1, 1) Accuracy: 100.0\n"
          ]
        },
        {
          "output_type": "stream",
          "name": "stderr",
          "text": [
            "\rEvaluating group-wise accuracy:  32%|███▏      | 8/25 [00:03<00:07,  2.16it/s]"
          ]
        },
        {
          "output_type": "stream",
          "name": "stdout",
          "text": [
            "Group (1, 2) Accuracy: 29.41176470588235\n"
          ]
        },
        {
          "output_type": "stream",
          "name": "stderr",
          "text": [
            "\rEvaluating group-wise accuracy:  36%|███▌      | 9/25 [00:04<00:07,  2.16it/s]"
          ]
        },
        {
          "output_type": "stream",
          "name": "stdout",
          "text": [
            "Group (1, 3) Accuracy: 30.147058823529413\n"
          ]
        },
        {
          "output_type": "stream",
          "name": "stderr",
          "text": [
            "\rEvaluating group-wise accuracy:  40%|████      | 10/25 [00:04<00:06,  2.18it/s]"
          ]
        },
        {
          "output_type": "stream",
          "name": "stdout",
          "text": [
            "Group (1, 4) Accuracy: 50.490196078431374\n"
          ]
        },
        {
          "output_type": "stream",
          "name": "stderr",
          "text": [
            "\rEvaluating group-wise accuracy:  44%|████▍     | 11/25 [00:05<00:06,  2.18it/s]"
          ]
        },
        {
          "output_type": "stream",
          "name": "stdout",
          "text": [
            "Group (2, 0) Accuracy: 74.66666666666667\n"
          ]
        },
        {
          "output_type": "stream",
          "name": "stderr",
          "text": [
            "\rEvaluating group-wise accuracy:  48%|████▊     | 12/25 [00:05<00:05,  2.18it/s]"
          ]
        },
        {
          "output_type": "stream",
          "name": "stdout",
          "text": [
            "Group (2, 1) Accuracy: 31.733333333333334\n"
          ]
        },
        {
          "output_type": "stream",
          "name": "stderr",
          "text": [
            "\rEvaluating group-wise accuracy:  52%|█████▏    | 13/25 [00:06<00:06,  1.89it/s]"
          ]
        },
        {
          "output_type": "stream",
          "name": "stdout",
          "text": [
            "Group (2, 2) Accuracy: 100.0\n"
          ]
        },
        {
          "output_type": "stream",
          "name": "stderr",
          "text": [
            "\rEvaluating group-wise accuracy:  56%|█████▌    | 14/25 [00:06<00:06,  1.74it/s]"
          ]
        },
        {
          "output_type": "stream",
          "name": "stdout",
          "text": [
            "Group (2, 3) Accuracy: 33.86666666666667\n"
          ]
        },
        {
          "output_type": "stream",
          "name": "stderr",
          "text": [
            "\rEvaluating group-wise accuracy:  60%|██████    | 15/25 [00:07<00:05,  1.68it/s]"
          ]
        },
        {
          "output_type": "stream",
          "name": "stdout",
          "text": [
            "Group (2, 4) Accuracy: 6.149732620320855\n"
          ]
        },
        {
          "output_type": "stream",
          "name": "stderr",
          "text": [
            "\rEvaluating group-wise accuracy:  64%|██████▍   | 16/25 [00:07<00:04,  1.81it/s]"
          ]
        },
        {
          "output_type": "stream",
          "name": "stdout",
          "text": [
            "Group (3, 0) Accuracy: 20.85427135678392\n"
          ]
        },
        {
          "output_type": "stream",
          "name": "stderr",
          "text": [
            "\rEvaluating group-wise accuracy:  68%|██████▊   | 17/25 [00:08<00:04,  1.91it/s]"
          ]
        },
        {
          "output_type": "stream",
          "name": "stdout",
          "text": [
            "Group (3, 1) Accuracy: 28.71536523929471\n"
          ]
        },
        {
          "output_type": "stream",
          "name": "stderr",
          "text": [
            "\rEvaluating group-wise accuracy:  72%|███████▏  | 18/25 [00:08<00:03,  1.98it/s]"
          ]
        },
        {
          "output_type": "stream",
          "name": "stdout",
          "text": [
            "Group (3, 2) Accuracy: 24.43324937027708\n"
          ]
        },
        {
          "output_type": "stream",
          "name": "stderr",
          "text": [
            "\rEvaluating group-wise accuracy:  76%|███████▌  | 19/25 [00:09<00:02,  2.00it/s]"
          ]
        },
        {
          "output_type": "stream",
          "name": "stdout",
          "text": [
            "Group (3, 3) Accuracy: 100.0\n"
          ]
        },
        {
          "output_type": "stream",
          "name": "stderr",
          "text": [
            "\rEvaluating group-wise accuracy:  80%|████████  | 20/25 [00:09<00:02,  2.06it/s]"
          ]
        },
        {
          "output_type": "stream",
          "name": "stdout",
          "text": [
            "Group (3, 4) Accuracy: 44.584382871536526\n"
          ]
        },
        {
          "output_type": "stream",
          "name": "stderr",
          "text": [
            "\rEvaluating group-wise accuracy:  84%|████████▍ | 21/25 [00:10<00:01,  2.09it/s]"
          ]
        },
        {
          "output_type": "stream",
          "name": "stdout",
          "text": [
            "Group (4, 0) Accuracy: 50.377833753148614\n"
          ]
        },
        {
          "output_type": "stream",
          "name": "stderr",
          "text": [
            "\rEvaluating group-wise accuracy:  88%|████████▊ | 22/25 [00:10<00:01,  2.13it/s]"
          ]
        },
        {
          "output_type": "stream",
          "name": "stdout",
          "text": [
            "Group (4, 1) Accuracy: 6.801007556675063\n"
          ]
        },
        {
          "output_type": "stream",
          "name": "stderr",
          "text": [
            "\rEvaluating group-wise accuracy:  92%|█████████▏| 23/25 [00:11<00:00,  2.16it/s]"
          ]
        },
        {
          "output_type": "stream",
          "name": "stdout",
          "text": [
            "Group (4, 2) Accuracy: 9.571788413098236\n"
          ]
        },
        {
          "output_type": "stream",
          "name": "stderr",
          "text": [
            "\rEvaluating group-wise accuracy:  96%|█████████▌| 24/25 [00:11<00:00,  2.16it/s]"
          ]
        },
        {
          "output_type": "stream",
          "name": "stdout",
          "text": [
            "Group (4, 3) Accuracy: 49.24242424242424\n"
          ]
        },
        {
          "output_type": "stream",
          "name": "stderr",
          "text": [
            "Evaluating group-wise accuracy: 100%|██████████| 25/25 [00:12<00:00,  2.03it/s]"
          ]
        },
        {
          "output_type": "stream",
          "name": "stdout",
          "text": [
            "Group (4, 4) Accuracy: 100.0\n",
            "Worst group accuracy: ((2, 4), 6.149732620320855)\n",
            "Avg group accuracy: 99.70374144981233\n"
          ]
        },
        {
          "output_type": "stream",
          "name": "stderr",
          "text": [
            "\n"
          ]
        },
        {
          "output_type": "stream",
          "name": "stdout",
          "text": [
            "Spurious attribute accuracy 63.83\n"
          ]
        }
      ]
    }
  ]
}